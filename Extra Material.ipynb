{
 "cells": [
  {
   "cell_type": "markdown",
   "id": "2cde4af2",
   "metadata": {},
   "source": [
    "## Useful Websites\n",
    "\n",
    "#### Markdown Syntax\n",
    "- https://www.markdownguide.org/basic-syntax/\n",
    "\n",
    "#### Pandas User Guide\n",
    "- https://pandas.pydata.org/docs/user_guide/index.html\n",
    "\n",
    "#### Pandas Intro\n",
    "- https://www.geeksforgeeks.org/introduction-to-pandas-in-python/\n",
    "\n",
    "#### Installing Packages\n",
    "- https://saturncloud.io/blog/how-to-install-python-packages-on-jupyter-notebook/\n",
    "\n",
    "#### One hot encoding\n",
    "- https://www.geeksforgeeks.org/ml-one-hot-encoding-of-datasets-in-python/#\n",
    "\n"
   ]
  },
  {
   "cell_type": "markdown",
   "id": "077b66f0",
   "metadata": {},
   "source": [
    "### Installing Jupyter Notebook\n",
    "- https://www.geeksforgeeks.org/install-jupyter-notebook-in-windows/#:~:text=Installing%20Jupyter%20Notebook%20using%20pip%201%20Command%20to,to%20setup%20Conda%20environment%20with%20Jupyter%20Notebook%3F%20\n",
    "    \n",
    "    "
   ]
  },
  {
   "cell_type": "markdown",
   "id": "a3aaeeb6",
   "metadata": {},
   "source": [
    "### Data Science Notebook Templates\n",
    "- https://github.com/CoenMeintjes/data_science_notebook_templates?tab=readme-ov-file#data-science-jupyter-notebook-templates\n"
   ]
  },
  {
   "cell_type": "markdown",
   "id": "04452f12",
   "metadata": {},
   "source": [
    "- https://www.codespeedy.com/loan-prediction-project-using-machine-learning-in-python/"
   ]
  },
  {
   "cell_type": "markdown",
   "id": "a2efdb62",
   "metadata": {},
   "source": [
    "### Inspo for your projects\n",
    "- https://medium.com/@pinnzonandres/loan-prediction-with-python-d32cf65b5443"
   ]
  }
 ],
 "metadata": {
  "kernelspec": {
   "display_name": "Python 3 (ipykernel)",
   "language": "python",
   "name": "python3"
  },
  "language_info": {
   "codemirror_mode": {
    "name": "ipython",
    "version": 3
   },
   "file_extension": ".py",
   "mimetype": "text/x-python",
   "name": "python",
   "nbconvert_exporter": "python",
   "pygments_lexer": "ipython3",
   "version": "3.9.7"
  }
 },
 "nbformat": 4,
 "nbformat_minor": 5
}
